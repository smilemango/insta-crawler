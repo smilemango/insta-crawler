{
 "cells": [
  {
   "cell_type": "markdown",
   "metadata": {
    "collapsed": true
   },
   "source": [
    "## Request\n",
    "\n",
    "    Host: www.instagram.com\n",
    "    User-Agent: Mozilla/5.0 (Windows NT 6.1; rv:53.0) Gecko/20100101 Firefox/53.0\n",
    "    Accept: text/html,application/xhtml+xml,application/xml;q=0.9,*/*;q=0.8\n",
    "    Accept-Language: en-US,en;q=0.5\n",
    "    Accept-Encoding: gzip, deflate, br\n",
    "    Connection: keep-alive\n",
    "    Upgrade-Insecure-Requests: 1\n",
    "\n",
    "## Response\n",
    "\n",
    "    Content-Type: text/html\n",
    "    X-Frame-Options: SAMEORIGIN\n",
    "    Cache-Control: private, no-cache, no-store, must-revalidate\n",
    "    Pragma: no-cache\n",
    "    Expires: Sat, 01 Jan 2000 00:00:00 GMT\n",
    "    Vary: Cookie, Accept-Language, Accept-Encoding\n",
    "    Content-Language: en\n",
    "    Date: Thu, 18 May 2017 07:04:59 GMT\n",
    "    Strict-Transport-Security: max-age=86400\n",
    "    Set-Cookie: sessionid=; expires=Thu, 01-Jan-1970 00:00:00 GMT; Max-Age=0; Path=/; HttpOnly; Domain=instagram.comrur=FRC; Path=/csrftoken=PLAM8sy0b4uACXD0ucOxPflbnKLZOHwS; expires=Thu, 17-May-2018 07:04:59 GMT; Max-Age=31449600; Path=/; Securemid=WR1HmwAEAAFPuR_HTlcUdqabVwts; expires=Wed, 13-May-2037 07:04:59 GMT; Max-Age=630720000; Path=/\n",
    "    Content-Length: 9162\n",
    "    X-Cache: MISS from 192.168.3.181\n",
    "    Connection: keep-alive\n",
    "\n",
    "## Body\n",
    "\n",
    "첫페이지의 소스"
   ]
  },
  {
   "cell_type": "code",
   "execution_count": 2,
   "metadata": {
    "collapsed": false
   },
   "outputs": [],
   "source": [
    "headers = {'Host': 'www.instagram.com',\n",
    "    'User-Agent': 'Mozilla/5.0 (Windows NT 6.1; rv:53.0) Gecko/20100101 Firefox/53.0',\n",
    "    'Accept': 'text/html,application/xhtml+xml,application/xml;q=0.9,*/*;q=0.8',\n",
    "    'Accept-Language': 'en-US,en;q=0.5',\n",
    "    'Accept-Encoding': 'gzip, deflate, br',\n",
    "    'Connection': 'keep-alive',\n",
    "    'Upgrade-Insecure-Requests': '1'\n",
    "           }"
   ]
  },
  {
   "cell_type": "code",
   "execution_count": 3,
   "metadata": {
    "collapsed": false
   },
   "outputs": [],
   "source": [
    "import http.client"
   ]
  },
  {
   "cell_type": "code",
   "execution_count": 4,
   "metadata": {
    "collapsed": false
   },
   "outputs": [],
   "source": [
    "conn = http.client.HTTPSConnection(\"www.instagram.com\")"
   ]
  },
  {
   "cell_type": "code",
   "execution_count": 5,
   "metadata": {
    "collapsed": false
   },
   "outputs": [],
   "source": [
    "conn.request(\"GET\", \"/\")"
   ]
  },
  {
   "cell_type": "code",
   "execution_count": 6,
   "metadata": {
    "collapsed": false
   },
   "outputs": [],
   "source": [
    "resp = conn.getresponse()"
   ]
  },
  {
   "cell_type": "code",
   "execution_count": 7,
   "metadata": {
    "collapsed": false
   },
   "outputs": [
    {
     "data": {
      "text/plain": [
       "http.client.HTTPMessage"
      ]
     },
     "execution_count": 7,
     "metadata": {},
     "output_type": "execute_result"
    }
   ],
   "source": [
    "type(resp.headers)"
   ]
  },
  {
   "cell_type": "code",
   "execution_count": 8,
   "metadata": {
    "collapsed": false
   },
   "outputs": [
    {
     "data": {
      "text/plain": [
       "[('Content-Type', 'text/html'),\n",
       " ('X-Frame-Options', 'SAMEORIGIN'),\n",
       " ('Set-Cookie',\n",
       "  'sessionid=; expires=Thu, 01-Jan-1970 00:00:00 GMT; Max-Age=0; Path=/; HttpOnly; Domain=instagram.com'),\n",
       " ('Cache-Control', 'private, no-cache, no-store, must-revalidate'),\n",
       " ('Pragma', 'no-cache'),\n",
       " ('Expires', 'Sat, 01 Jan 2000 00:00:00 GMT'),\n",
       " ('Vary', 'Cookie, Accept-Language, Accept-Encoding'),\n",
       " ('Content-Language', 'en'),\n",
       " ('Date', 'Thu, 18 May 2017 15:07:42 GMT'),\n",
       " ('Strict-Transport-Security', 'max-age=86400'),\n",
       " ('Set-Cookie', 'rur=ASH; Path=/'),\n",
       " ('Set-Cookie',\n",
       "  'csrftoken=z6KkVxeVeeCW5hD2W7138UldWLTAWwgW; expires=Thu, 17-May-2018 15:07:42 GMT; Max-Age=31449600; Path=/; Secure'),\n",
       " ('Set-Cookie',\n",
       "  'mid=WR24vgAEAAHAT2coInBLg987qX1Y; expires=Wed, 13-May-2037 15:07:42 GMT; Max-Age=630720000; Path=/'),\n",
       " ('Connection', 'keep-alive'),\n",
       " ('Content-Length', '9430')]"
      ]
     },
     "execution_count": 8,
     "metadata": {},
     "output_type": "execute_result"
    }
   ],
   "source": [
    "resp.getheaders()"
   ]
  },
  {
   "cell_type": "code",
   "execution_count": 9,
   "metadata": {
    "collapsed": false
   },
   "outputs": [],
   "source": [
    "import http.cookies"
   ]
  },
  {
   "cell_type": "code",
   "execution_count": 10,
   "metadata": {
    "collapsed": false
   },
   "outputs": [],
   "source": [
    "cookie= http.cookies.SimpleCookie()"
   ]
  },
  {
   "cell_type": "code",
   "execution_count": 11,
   "metadata": {
    "collapsed": false
   },
   "outputs": [
    {
     "data": {
      "text/plain": [
       "['sessionid=; expires=Thu',\n",
       " ' 01-Jan-1970 00:00:00 GMT; Max-Age=0; Path=/; HttpOnly; Domain=instagram.com',\n",
       " ' rur=ASH; Path=/',\n",
       " ' csrftoken=z6KkVxeVeeCW5hD2W7138UldWLTAWwgW; expires=Thu',\n",
       " ' 17-May-2018 15:07:42 GMT; Max-Age=31449600; Path=/; Secure',\n",
       " ' mid=WR24vgAEAAHAT2coInBLg987qX1Y; expires=Wed',\n",
       " ' 13-May-2037 15:07:42 GMT; Max-Age=630720000; Path=/']"
      ]
     },
     "execution_count": 11,
     "metadata": {},
     "output_type": "execute_result"
    }
   ],
   "source": [
    "resp.getheader('Set-Cookie','').split(',')"
   ]
  },
  {
   "cell_type": "code",
   "execution_count": 12,
   "metadata": {
    "collapsed": false
   },
   "outputs": [],
   "source": [
    "cookies = resp.headers.get_all('Set-Cookie')"
   ]
  },
  {
   "cell_type": "markdown",
   "metadata": {
    "collapsed": false
   },
   "source": [
    "# Login Ajax 리퀘스트 헤더\n",
    "\n",
    "https://www.instagram.com/accounts/login/ajax/\n",
    "\n",
    "    Host: www.instagram.com\n",
    "    User-Agent: Mozilla/5.0 (Windows NT 6.1; rv:53.0) Gecko/20100101 Firefox/53.0\n",
    "    Accept: */*\n",
    "    Accept-Language: en-US,en;q=0.5\n",
    "    Accept-Encoding: gzip, deflate, br\n",
    "    X-CSRFToken: 6VEnDTMwKiX3g0vGVvBucJLJ9vaOmfku\n",
    "    X-Instagram-AJAX: 1\n",
    "    Content-Type: application/x-www-form-urlencoded\n",
    "    X-Requested-With: XMLHttpRequest\n",
    "    Referer: https://www.instagram.com/\n",
    "    Content-Length: 51\n",
    "    Cookie: mid=WRq09gAEAAF1Ypa2afCJ7qC1hDoy; s_network=\"\"; rur=FRC; ig_vw=1920; ig_pr=1; csrftoken=6VEnDTMwKiX3g0vGVvBucJLJ9vaOmfku\n",
    "    Connection: keep-alive"
   ]
  },
  {
   "cell_type": "code",
   "execution_count": 18,
   "metadata": {
    "collapsed": false
   },
   "outputs": [
    {
     "name": "stdout",
     "output_type": "stream",
     "text": [
      "sessionid=\n",
      "rur=ASH\n",
      "csrftoken=z6KkVxeVeeCW5hD2W7138UldWLTAWwgW\n",
      "mid=WR24vgAEAAHAT2coInBLg987qX1Y\n"
     ]
    }
   ],
   "source": [
    "headers = {}\n",
    "cookie_string = \"\"\n",
    "for cookie in cookies :\n",
    "    print(cookie.split(';')[0])\n",
    "    cookie_string= cookie_string + cookie.split(';')[0]\n",
    "    "
   ]
  },
  {
   "cell_type": "code",
   "execution_count": 21,
   "metadata": {
    "collapsed": false
   },
   "outputs": [
    {
     "data": {
      "text/plain": [
       "[('Content-Type', 'text/html'),\n",
       " ('X-Frame-Options', 'SAMEORIGIN'),\n",
       " ('Set-Cookie',\n",
       "  'sessionid=; expires=Thu, 01-Jan-1970 00:00:00 GMT; Max-Age=0; Path=/; HttpOnly; Domain=instagram.com'),\n",
       " ('Cache-Control', 'private, no-cache, no-store, must-revalidate'),\n",
       " ('Pragma', 'no-cache'),\n",
       " ('Expires', 'Sat, 01 Jan 2000 00:00:00 GMT'),\n",
       " ('Vary', 'Cookie, Accept-Language, Accept-Encoding'),\n",
       " ('Content-Language', 'en'),\n",
       " ('Date', 'Thu, 18 May 2017 08:39:42 GMT'),\n",
       " ('Strict-Transport-Security', 'max-age=86400'),\n",
       " ('Set-Cookie', 'rur=FRC; Path=/'),\n",
       " ('Set-Cookie',\n",
       "  'csrftoken=KWIaAZOlKJoSiNMvrqH4cwUiFnZdjtis; expires=Thu, 17-May-2018 08:39:42 GMT; Max-Age=31449600; Path=/; Secure'),\n",
       " ('Set-Cookie',\n",
       "  'mid=WR1dzgAEAAF-8CgMexhRdwMEfXo0; expires=Wed, 13-May-2037 08:39:42 GMT; Max-Age=630720000; Path=/'),\n",
       " ('Content-Length', '9426'),\n",
       " ('X-Cache', 'MISS from 192.168.3.181'),\n",
       " ('Connection', 'keep-alive')]"
      ]
     },
     "execution_count": 21,
     "metadata": {},
     "output_type": "execute_result"
    }
   ],
   "source": [
    "resp.getheaders()"
   ]
  },
  {
   "cell_type": "code",
   "execution_count": null,
   "metadata": {
    "collapsed": true
   },
   "outputs": [],
   "source": []
  }
 ],
 "metadata": {
  "kernelspec": {
   "display_name": "Python 3",
   "language": "python",
   "name": "python3"
  },
  "language_info": {
   "codemirror_mode": {
    "name": "ipython",
    "version": 3
   },
   "file_extension": ".py",
   "mimetype": "text/x-python",
   "name": "python",
   "nbconvert_exporter": "python",
   "pygments_lexer": "ipython3",
   "version": "3.5.2"
  }
 },
 "nbformat": 4,
 "nbformat_minor": 0
}
