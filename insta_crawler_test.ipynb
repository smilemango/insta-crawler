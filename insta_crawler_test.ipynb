{
 "cells": [
  {
   "cell_type": "markdown",
   "metadata": {
    "collapsed": true
   },
   "source": [
    "## Request\n",
    "\n",
    "    Host: www.instagram.com\n",
    "    User-Agent: Mozilla/5.0 (Windows NT 6.1; rv:53.0) Gecko/20100101 Firefox/53.0\n",
    "    Accept: text/html,application/xhtml+xml,application/xml;q=0.9,*/*;q=0.8\n",
    "    Accept-Language: en-US,en;q=0.5\n",
    "    Accept-Encoding: gzip, deflate, br\n",
    "    Connection: keep-alive\n",
    "    Upgrade-Insecure-Requests: 1\n",
    "\n",
    "## Response\n",
    "\n",
    "    Content-Type: text/html\n",
    "    X-Frame-Options: SAMEORIGIN\n",
    "    Cache-Control: private, no-cache, no-store, must-revalidate\n",
    "    Pragma: no-cache\n",
    "    Expires: Sat, 01 Jan 2000 00:00:00 GMT\n",
    "    Vary: Cookie, Accept-Language, Accept-Encoding\n",
    "    Content-Language: en\n",
    "    Date: Thu, 18 May 2017 07:04:59 GMT\n",
    "    Strict-Transport-Security: max-age=86400\n",
    "    Set-Cookie: sessionid=; expires=Thu, 01-Jan-1970 00:00:00 GMT; Max-Age=0; Path=/; HttpOnly; Domain=instagram.comrur=FRC; Path=/csrftoken=PLAM8sy0b4uACXD0ucOxPflbnKLZOHwS; expires=Thu, 17-May-2018 07:04:59 GMT; Max-Age=31449600; Path=/; Securemid=WR1HmwAEAAFPuR_HTlcUdqabVwts; expires=Wed, 13-May-2037 07:04:59 GMT; Max-Age=630720000; Path=/\n",
    "    Content-Length: 9162\n",
    "    X-Cache: MISS from 192.168.3.181\n",
    "    Connection: keep-alive\n",
    "\n",
    "## Body\n",
    "\n",
    "첫페이지의 소스"
   ]
  },
  {
   "cell_type": "code",
   "execution_count": 1,
   "metadata": {
    "collapsed": false
   },
   "outputs": [],
   "source": [
    "import http.client"
   ]
  },
  {
   "cell_type": "code",
   "execution_count": 2,
   "metadata": {
    "collapsed": false
   },
   "outputs": [],
   "source": [
    "headers = {'Host': 'www.instagram.com',\n",
    "    'User-Agent': 'Mozilla/5.0 (Windows NT 6.1; rv:53.0) Gecko/20100101 Firefox/53.0',\n",
    "    'Accept': 'text/html,application/xhtml+xml,application/xml;q=0.9,*/*;q=0.8',\n",
    "    'Accept-Language': 'en-US,en;q=0.5',\n",
    "    'Accept-Encoding': 'gzip, deflate, br',\n",
    "    'Connection': 'keep-alive',\n",
    "    'Upgrade-Insecure-Requests': '1'\n",
    "           }"
   ]
  },
  {
   "cell_type": "code",
   "execution_count": 3,
   "metadata": {
    "collapsed": false
   },
   "outputs": [],
   "source": [
    "conn = http.client.HTTPSConnection(\"www.instagram.com\")"
   ]
  },
  {
   "cell_type": "code",
   "execution_count": 4,
   "metadata": {
    "collapsed": false
   },
   "outputs": [],
   "source": [
    "conn.request(\"GET\", \"/\")"
   ]
  },
  {
   "cell_type": "code",
   "execution_count": 5,
   "metadata": {
    "collapsed": false
   },
   "outputs": [],
   "source": [
    "resp = conn.getresponse()"
   ]
  },
  {
   "cell_type": "code",
   "execution_count": 44,
   "metadata": {
    "collapsed": false
   },
   "outputs": [
    {
     "data": {
      "text/plain": [
       "http.client.HTTPMessage"
      ]
     },
     "execution_count": 44,
     "metadata": {},
     "output_type": "execute_result"
    }
   ],
   "source": [
    "type(resp.headers)"
   ]
  },
  {
   "cell_type": "code",
   "execution_count": 51,
   "metadata": {
    "collapsed": false
   },
   "outputs": [
    {
     "data": {
      "text/plain": [
       "[('Content-Type', 'text/html'),\n",
       " ('X-Frame-Options', 'SAMEORIGIN'),\n",
       " ('Set-Cookie',\n",
       "  'sessionid=; expires=Thu, 01-Jan-1970 00:00:00 GMT; Max-Age=0; Path=/; HttpOnly; Domain=instagram.com'),\n",
       " ('Cache-Control', 'private, no-cache, no-store, must-revalidate'),\n",
       " ('Pragma', 'no-cache'),\n",
       " ('Expires', 'Sat, 01 Jan 2000 00:00:00 GMT'),\n",
       " ('Vary', 'Cookie, Accept-Language, Accept-Encoding'),\n",
       " ('Content-Language', 'en'),\n",
       " ('Date', 'Thu, 18 May 2017 08:39:42 GMT'),\n",
       " ('Strict-Transport-Security', 'max-age=86400'),\n",
       " ('Set-Cookie', 'rur=FRC; Path=/'),\n",
       " ('Set-Cookie',\n",
       "  'csrftoken=KWIaAZOlKJoSiNMvrqH4cwUiFnZdjtis; expires=Thu, 17-May-2018 08:39:42 GMT; Max-Age=31449600; Path=/; Secure'),\n",
       " ('Set-Cookie',\n",
       "  'mid=WR1dzgAEAAF-8CgMexhRdwMEfXo0; expires=Wed, 13-May-2037 08:39:42 GMT; Max-Age=630720000; Path=/'),\n",
       " ('Content-Length', '9426'),\n",
       " ('X-Cache', 'MISS from 192.168.3.181'),\n",
       " ('Connection', 'keep-alive')]"
      ]
     },
     "execution_count": 51,
     "metadata": {},
     "output_type": "execute_result"
    }
   ],
   "source": [
    "resp.getheaders()"
   ]
  },
  {
   "cell_type": "code",
   "execution_count": 8,
   "metadata": {
    "collapsed": false
   },
   "outputs": [],
   "source": [
    "import http.cookies"
   ]
  },
  {
   "cell_type": "code",
   "execution_count": 9,
   "metadata": {
    "collapsed": false
   },
   "outputs": [],
   "source": [
    "cookie= http.cookies.SimpleCookie()"
   ]
  },
  {
   "cell_type": "code",
   "execution_count": 52,
   "metadata": {
    "collapsed": false
   },
   "outputs": [
    {
     "data": {
      "text/plain": [
       "['sessionid=; expires=Thu',\n",
       " ' 01-Jan-1970 00:00:00 GMT; Max-Age=0; Path=/; HttpOnly; Domain=instagram.com',\n",
       " ' rur=FRC; Path=/',\n",
       " ' csrftoken=KWIaAZOlKJoSiNMvrqH4cwUiFnZdjtis; expires=Thu',\n",
       " ' 17-May-2018 08:39:42 GMT; Max-Age=31449600; Path=/; Secure',\n",
       " ' mid=WR1dzgAEAAF-8CgMexhRdwMEfXo0; expires=Wed',\n",
       " ' 13-May-2037 08:39:42 GMT; Max-Age=630720000; Path=/']"
      ]
     },
     "execution_count": 52,
     "metadata": {},
     "output_type": "execute_result"
    }
   ],
   "source": [
    "resp.getheader('Set-Cookie','').split(',')"
   ]
  },
  {
   "cell_type": "code",
   "execution_count": 55,
   "metadata": {
    "collapsed": false
   },
   "outputs": [
    {
     "data": {
      "text/plain": [
       "['sessionid=; expires=Thu, 01-Jan-1970 00:00:00 GMT; Max-Age=0; Path=/; HttpOnly; Domain=instagram.com',\n",
       " 'rur=FRC; Path=/',\n",
       " 'csrftoken=KWIaAZOlKJoSiNMvrqH4cwUiFnZdjtis; expires=Thu, 17-May-2018 08:39:42 GMT; Max-Age=31449600; Path=/; Secure',\n",
       " 'mid=WR1dzgAEAAF-8CgMexhRdwMEfXo0; expires=Wed, 13-May-2037 08:39:42 GMT; Max-Age=630720000; Path=/']"
      ]
     },
     "execution_count": 55,
     "metadata": {},
     "output_type": "execute_result"
    }
   ],
   "source": [
    "resp.headers.get_all('Set-Cookie')"
   ]
  },
  {
   "cell_type": "code",
   "execution_count": 40,
   "metadata": {
    "collapsed": false
   },
   "outputs": [
    {
     "name": "stdout",
     "output_type": "stream",
     "text": [
      "From constructor:\n",
      "Set-Cookie: csrftoken=KWIaAZOlKJoSiNMvrqH4cwUiFnZdjtis; expires=Thu, 17-May-2018 08:39:42 GMT; Max-Age=31449600; Path=/\r\n",
      "Set-Cookie: mid=WR1dzgAEAAF-8CgMexhRdwMEfXo0; expires=Wed, 13-May-2037 08:39:42 GMT; Max-Age=630720000; Path=/\r\n",
      "Set-Cookie: rur=FRC; Path=/,\r\n",
      "Set-Cookie: sessionid=; Domain=instagram.com,; expires=Thu, 01-Jan-1970 00:00:00 GMT; HttpOnly; Max-Age=0; Path=/\n",
      "\n",
      "From load():\n",
      "Set-Cookie: csrftoken=KWIaAZOlKJoSiNMvrqH4cwUiFnZdjtis; expires=Thu, 17-May-2018 08:39:42 GMT; Max-Age=31449600; Path=/\r\n",
      "Set-Cookie: mid=WR1dzgAEAAF-8CgMexhRdwMEfXo0; expires=Wed, 13-May-2037 08:39:42 GMT; Max-Age=630720000; Path=/\r\n",
      "Set-Cookie: rur=FRC; Path=/,\r\n",
      "Set-Cookie: sessionid=; Domain=instagram.com,; expires=Thu, 01-Jan-1970 00:00:00 GMT; HttpOnly; Max-Age=0; Path=/\n"
     ]
    }
   ],
   "source": [
    "HTTP_COOKIE = r'sessionid=; expires=Thu, 01-Jan-1970 00:00:00 GMT; Max-Age=0; Path=/; HttpOnly; Domain=instagram.com, rur=FRC; Path=/, csrftoken=KWIaAZOlKJoSiNMvrqH4cwUiFnZdjtis; expires=Thu, 17-May-2018 08:39:42 GMT; Max-Age=31449600; Path=/; mid=WR1dzgAEAAF-8CgMexhRdwMEfXo0; expires=Wed, 13-May-2037 08:39:42 GMT; Max-Age=630720000; Path=/'\n",
    "\n",
    "print('From constructor:')\n",
    "c = http.cookies.SimpleCookie(HTTP_COOKIE)\n",
    "print(c)\n",
    "\n",
    "print()\n",
    "print ('From load():')\n",
    "c = http.cookies.SimpleCookie()\n",
    "c.load(HTTP_COOKIE)\n",
    "print (c)"
   ]
  },
  {
   "cell_type": "code",
   "execution_count": 13,
   "metadata": {
    "collapsed": false
   },
   "outputs": [
    {
     "name": "stdout",
     "output_type": "stream",
     "text": [
      "\n"
     ]
    }
   ],
   "source": [
    "print(cookie)"
   ]
  },
  {
   "cell_type": "code",
   "execution_count": 14,
   "metadata": {
    "collapsed": false
   },
   "outputs": [
    {
     "data": {
      "text/plain": [
       "''"
      ]
     },
     "execution_count": 14,
     "metadata": {},
     "output_type": "execute_result"
    }
   ],
   "source": [
    "cookie.output()"
   ]
  },
  {
   "cell_type": "code",
   "execution_count": 21,
   "metadata": {
    "collapsed": false
   },
   "outputs": [
    {
     "data": {
      "text/plain": [
       "[('Content-Type', 'text/html'),\n",
       " ('X-Frame-Options', 'SAMEORIGIN'),\n",
       " ('Set-Cookie',\n",
       "  'sessionid=; expires=Thu, 01-Jan-1970 00:00:00 GMT; Max-Age=0; Path=/; HttpOnly; Domain=instagram.com'),\n",
       " ('Cache-Control', 'private, no-cache, no-store, must-revalidate'),\n",
       " ('Pragma', 'no-cache'),\n",
       " ('Expires', 'Sat, 01 Jan 2000 00:00:00 GMT'),\n",
       " ('Vary', 'Cookie, Accept-Language, Accept-Encoding'),\n",
       " ('Content-Language', 'en'),\n",
       " ('Date', 'Thu, 18 May 2017 08:39:42 GMT'),\n",
       " ('Strict-Transport-Security', 'max-age=86400'),\n",
       " ('Set-Cookie', 'rur=FRC; Path=/'),\n",
       " ('Set-Cookie',\n",
       "  'csrftoken=KWIaAZOlKJoSiNMvrqH4cwUiFnZdjtis; expires=Thu, 17-May-2018 08:39:42 GMT; Max-Age=31449600; Path=/; Secure'),\n",
       " ('Set-Cookie',\n",
       "  'mid=WR1dzgAEAAF-8CgMexhRdwMEfXo0; expires=Wed, 13-May-2037 08:39:42 GMT; Max-Age=630720000; Path=/'),\n",
       " ('Content-Length', '9426'),\n",
       " ('X-Cache', 'MISS from 192.168.3.181'),\n",
       " ('Connection', 'keep-alive')]"
      ]
     },
     "execution_count": 21,
     "metadata": {},
     "output_type": "execute_result"
    }
   ],
   "source": [
    "resp.getheaders()"
   ]
  },
  {
   "cell_type": "code",
   "execution_count": null,
   "metadata": {
    "collapsed": true
   },
   "outputs": [],
   "source": []
  }
 ],
 "metadata": {
  "kernelspec": {
   "display_name": "Python [Root]",
   "language": "python",
   "name": "Python [Root]"
  },
  "language_info": {
   "codemirror_mode": {
    "name": "ipython",
    "version": 3
   },
   "file_extension": ".py",
   "mimetype": "text/x-python",
   "name": "python",
   "nbconvert_exporter": "python",
   "pygments_lexer": "ipython3",
   "version": "3.5.1"
  }
 },
 "nbformat": 4,
 "nbformat_minor": 0
}
