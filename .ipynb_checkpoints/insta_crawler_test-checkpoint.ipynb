{
 "cells": [
  {
   "cell_type": "markdown",
   "metadata": {
    "collapsed": true
   },
   "source": [
    "## Request\n",
    "\n",
    "    Host: www.instagram.com\n",
    "    User-Agent: Mozilla/5.0 (Windows NT 6.1; rv:53.0) Gecko/20100101 Firefox/53.0\n",
    "    Accept: text/html,application/xhtml+xml,application/xml;q=0.9,*/*;q=0.8\n",
    "    Accept-Language: en-US,en;q=0.5\n",
    "    Accept-Encoding: gzip, deflate, br\n",
    "    Connection: keep-alive\n",
    "    Upgrade-Insecure-Requests: 1\n",
    "\n",
    "## Response\n",
    "\n",
    "    Content-Type: text/html\n",
    "    X-Frame-Options: SAMEORIGIN\n",
    "    Cache-Control: private, no-cache, no-store, must-revalidate\n",
    "    Pragma: no-cache\n",
    "    Expires: Sat, 01 Jan 2000 00:00:00 GMT\n",
    "    Vary: Cookie, Accept-Language, Accept-Encoding\n",
    "    Content-Language: en\n",
    "    Date: Thu, 18 May 2017 07:04:59 GMT\n",
    "    Strict-Transport-Security: max-age=86400\n",
    "    Set-Cookie: sessionid=; expires=Thu, 01-Jan-1970 00:00:00 GMT; Max-Age=0; Path=/; HttpOnly; Domain=instagram.comrur=FRC; Path=/csrftoken=PLAM8sy0b4uACXD0ucOxPflbnKLZOHwS; expires=Thu, 17-May-2018 07:04:59 GMT; Max-Age=31449600; Path=/; Securemid=WR1HmwAEAAFPuR_HTlcUdqabVwts; expires=Wed, 13-May-2037 07:04:59 GMT; Max-Age=630720000; Path=/\n",
    "    Content-Length: 9162\n",
    "    X-Cache: MISS from 192.168.3.181\n",
    "    Connection: keep-alive\n",
    "\n",
    "## Body\n",
    "\n",
    "첫페이지의 소스"
   ]
  },
  {
   "cell_type": "code",
   "execution_count": 1,
   "metadata": {
    "collapsed": false
   },
   "outputs": [],
   "source": [
    "headers = {'Host': 'www.instagram.com',\n",
    "    'User-Agent': 'Mozilla/5.0 (Windows NT 6.1; rv:53.0) Gecko/20100101 Firefox/53.0',\n",
    "    'Accept': 'text/html,application/xhtml+xml,application/xml;q=0.9,*/*;q=0.8',\n",
    "    'Accept-Language': 'en-US,en;q=0.5',\n",
    "    'Accept-Encoding': 'gzip, deflate, br',\n",
    "    'Connection': 'keep-alive',\n",
    "    'Upgrade-Insecure-Requests': '1'\n",
    "           }"
   ]
  },
  {
   "cell_type": "code",
   "execution_count": 2,
   "metadata": {
    "collapsed": false
   },
   "outputs": [],
   "source": [
    "import http.client"
   ]
  },
  {
   "cell_type": "code",
   "execution_count": 3,
   "metadata": {
    "collapsed": false
   },
   "outputs": [],
   "source": [
    "conn = http.client.HTTPSConnection(\"www.instagram.com\")"
   ]
  },
  {
   "cell_type": "code",
   "execution_count": 4,
   "metadata": {
    "collapsed": false
   },
   "outputs": [],
   "source": [
    "conn.request(\"GET\", \"/\")"
   ]
  },
  {
   "cell_type": "code",
   "execution_count": 5,
   "metadata": {
    "collapsed": false
   },
   "outputs": [],
   "source": [
    "resp = conn.getresponse()"
   ]
  },
  {
   "cell_type": "code",
   "execution_count": 6,
   "metadata": {
    "collapsed": false
   },
   "outputs": [
    {
     "data": {
      "text/plain": [
       "http.client.HTTPMessage"
      ]
     },
     "execution_count": 6,
     "metadata": {},
     "output_type": "execute_result"
    }
   ],
   "source": [
    "type(resp.headers)"
   ]
  },
  {
   "cell_type": "code",
   "execution_count": 7,
   "metadata": {
    "collapsed": false
   },
   "outputs": [
    {
     "data": {
      "text/plain": [
       "[('Content-Type', 'text/html'),\n",
       " ('X-Frame-Options', 'SAMEORIGIN'),\n",
       " ('Set-Cookie',\n",
       "  'sessionid=; expires=Thu, 01-Jan-1970 00:00:00 GMT; Max-Age=0; Path=/; HttpOnly; Domain=instagram.com'),\n",
       " ('Cache-Control', 'private, no-cache, no-store, must-revalidate'),\n",
       " ('Pragma', 'no-cache'),\n",
       " ('Expires', 'Sat, 01 Jan 2000 00:00:00 GMT'),\n",
       " ('Vary', 'Cookie, Accept-Language, Accept-Encoding'),\n",
       " ('Content-Language', 'en'),\n",
       " ('Date', 'Fri, 19 May 2017 05:13:37 GMT'),\n",
       " ('Strict-Transport-Security', 'max-age=86400'),\n",
       " ('Set-Cookie', 'rur=FRC; Path=/'),\n",
       " ('Set-Cookie',\n",
       "  'csrftoken=uup0WgiTcKjfXjOT7azYjHX3gx4f0BNG; expires=Fri, 18-May-2018 05:13:37 GMT; Max-Age=31449600; Path=/; Secure'),\n",
       " ('Set-Cookie',\n",
       "  'mid=WR5_AQAEAAE3fyQv3YAinmDtQo0A; expires=Thu, 14-May-2037 05:13:37 GMT; Max-Age=630720000; Path=/'),\n",
       " ('Content-Length', '9426'),\n",
       " ('X-Cache', 'MISS from 192.168.3.181'),\n",
       " ('Connection', 'keep-alive')]"
      ]
     },
     "execution_count": 7,
     "metadata": {},
     "output_type": "execute_result"
    }
   ],
   "source": [
    "resp.getheaders()"
   ]
  },
  {
   "cell_type": "code",
   "execution_count": 8,
   "metadata": {
    "collapsed": false
   },
   "outputs": [],
   "source": [
    "import http.cookies"
   ]
  },
  {
   "cell_type": "code",
   "execution_count": 9,
   "metadata": {
    "collapsed": false
   },
   "outputs": [],
   "source": [
    "cookie= http.cookies.SimpleCookie()"
   ]
  },
  {
   "cell_type": "code",
   "execution_count": 16,
   "metadata": {
    "collapsed": false
   },
   "outputs": [
    {
     "data": {
      "text/plain": [
       "['sessionid=; expires=Thu',\n",
       " ' 01-Jan-1970 00:00:00 GMT; Max-Age=0; Path=/; HttpOnly; Domain=instagram.com',\n",
       " ' rur=FRC; Path=/',\n",
       " ' csrftoken=uup0WgiTcKjfXjOT7azYjHX3gx4f0BNG; expires=Fri',\n",
       " ' 18-May-2018 05:13:37 GMT; Max-Age=31449600; Path=/; Secure',\n",
       " ' mid=WR5_AQAEAAE3fyQv3YAinmDtQo0A; expires=Thu',\n",
       " ' 14-May-2037 05:13:37 GMT; Max-Age=630720000; Path=/']"
      ]
     },
     "execution_count": 16,
     "metadata": {},
     "output_type": "execute_result"
    }
   ],
   "source": [
    "resp.getheader('Set-Cookie','').split(',')"
   ]
  },
  {
   "cell_type": "code",
   "execution_count": 26,
   "metadata": {
    "collapsed": false
   },
   "outputs": [],
   "source": [
    "csrftoken = resp.getheader('Set-Cookie','').split(',')[3].lstrip().split(';')[0].split('=')[1]"
   ]
  },
  {
   "cell_type": "code",
   "execution_count": 27,
   "metadata": {
    "collapsed": false
   },
   "outputs": [
    {
     "name": "stdout",
     "output_type": "stream",
     "text": [
      "uup0WgiTcKjfXjOT7azYjHX3gx4f0BNG\n"
     ]
    }
   ],
   "source": [
    "print(csrftoken)"
   ]
  },
  {
   "cell_type": "code",
   "execution_count": 11,
   "metadata": {
    "collapsed": false
   },
   "outputs": [],
   "source": [
    "cookies = resp.headers.get_all('Set-Cookie')"
   ]
  },
  {
   "cell_type": "markdown",
   "metadata": {
    "collapsed": false
   },
   "source": [
    "# Login Ajax 리퀘스트 헤더\n",
    "\n",
    "https://www.instagram.com/accounts/login/ajax/\n",
    "\n",
    "    Host: www.instagram.com\n",
    "    User-Agent: Mozilla/5.0 (Windows NT 6.1; rv:53.0) Gecko/20100101 Firefox/53.0\n",
    "    Accept: */*\n",
    "    Accept-Language: en-US,en;q=0.5\n",
    "    Accept-Encoding: gzip, deflate, br\n",
    "    X-CSRFToken: 6VEnDTMwKiX3g0vGVvBucJLJ9vaOmfku\n",
    "    X-Instagram-AJAX: 1\n",
    "    Content-Type: application/x-www-form-urlencoded\n",
    "    X-Requested-With: XMLHttpRequest\n",
    "    Referer: https://www.instagram.com/\n",
    "    Content-Length: 51\n",
    "    Cookie: mid=WRq09gAEAAF1Ypa2afCJ7qC1hDoy; s_network=\"\"; rur=FRC; ig_vw=1920; ig_pr=1; csrftoken=6VEnDTMwKiX3g0vGVvBucJLJ9vaOmfku\n",
    "    Connection: keep-alive"
   ]
  },
  {
   "cell_type": "code",
   "execution_count": 14,
   "metadata": {
    "collapsed": false
   },
   "outputs": [
    {
     "name": "stdout",
     "output_type": "stream",
     "text": [
      "sessionid=\n",
      "rur=FRC\n",
      "csrftoken=uup0WgiTcKjfXjOT7azYjHX3gx4f0BNG\n",
      "mid=WR5_AQAEAAE3fyQv3YAinmDtQo0A\n"
     ]
    }
   ],
   "source": [
    "cookie_string = \"\"\n",
    "for cookie in cookies :\n",
    "    print(cookie.split(';')[0])\n",
    "    cookie_string= cookie_string + cookie.split(';')[0] + \";\"\n",
    "    "
   ]
  },
  {
   "cell_type": "code",
   "execution_count": 15,
   "metadata": {
    "collapsed": false
   },
   "outputs": [
    {
     "data": {
      "text/plain": [
       "'sessionid=;rur=FRC;csrftoken=uup0WgiTcKjfXjOT7azYjHX3gx4f0BNG;mid=WR5_AQAEAAE3fyQv3YAinmDtQo0A;'"
      ]
     },
     "execution_count": 15,
     "metadata": {},
     "output_type": "execute_result"
    }
   ],
   "source": [
    "cookie_string"
   ]
  },
  {
   "cell_type": "code",
   "execution_count": 29,
   "metadata": {
    "collapsed": false
   },
   "outputs": [],
   "source": [
    "headers = {\n",
    "    \"Host\":\"www.instagram.com\",\n",
    "    \"User-Agent\":\"Mozilla/5.0 (Windows NT 6.1; rv:53.0) Gecko/20100101 Firefox/53.0\",\n",
    "    \"Accept\":\"*/*\",\n",
    "    \"Accept-Language\": \"en-US,en;q=0.5\",\n",
    "    \"Accept-Encoding\": \"gzip, deflate, br\",\n",
    "    \"X-CSRFToken\": csrftoken,\n",
    "    \"X-Instagram-AJAX\": \"1\",\n",
    "    \"Content-Type\": \"application/x-www-form-urlencoded\",\n",
    "    \"X-Requested-With\": \"XMLHttpRequest\",\n",
    "    \"Referer\": \"https://www.instagram.com/\",\n",
    "    \"Cookie\": cookie_string,\n",
    "    \"Connection\": \"keep-alive\"\n",
    "    }"
   ]
  },
  {
   "cell_type": "code",
   "execution_count": null,
   "metadata": {
    "collapsed": true
   },
   "outputs": [],
   "source": []
  }
 ],
 "metadata": {
  "kernelspec": {
   "display_name": "Python [Root]",
   "language": "python",
   "name": "Python [Root]"
  },
  "language_info": {
   "codemirror_mode": {
    "name": "ipython",
    "version": 3
   },
   "file_extension": ".py",
   "mimetype": "text/x-python",
   "name": "python",
   "nbconvert_exporter": "python",
   "pygments_lexer": "ipython3",
   "version": "3.5.1"
  }
 },
 "nbformat": 4,
 "nbformat_minor": 0
}
